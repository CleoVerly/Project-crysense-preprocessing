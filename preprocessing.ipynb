{
 "cells": [
  {
   "cell_type": "code",
   "execution_count": 1,
   "id": "4de9a73f",
   "metadata": {},
   "outputs": [
    {
     "name": "stdout",
     "output_type": "stream",
     "text": [
      "Collecting librosa\n",
      "  Downloading librosa-0.11.0-py3-none-any.whl (260 kB)\n",
      "     -------------------------------------- 260.7/260.7 kB 2.7 MB/s eta 0:00:00\n",
      "Collecting soundfile\n",
      "  Downloading soundfile-0.13.1-py2.py3-none-win_amd64.whl (1.0 MB)\n",
      "     ---------------------------------------- 1.0/1.0 MB 6.4 MB/s eta 0:00:00\n",
      "Requirement already satisfied: numpy in c:\\users\\leviathans\\appdata\\local\\programs\\python\\python311\\lib\\site-packages (1.26.4)\n",
      "Requirement already satisfied: tqdm in c:\\users\\leviathans\\appdata\\local\\programs\\python\\python311\\lib\\site-packages (4.67.1)\n",
      "Collecting audioread>=2.1.9\n",
      "  Downloading audioread-3.0.1-py3-none-any.whl (23 kB)\n",
      "Collecting numba>=0.51.0\n",
      "  Downloading numba-0.61.2-cp311-cp311-win_amd64.whl (2.8 MB)\n",
      "     ---------------------------------------- 2.8/2.8 MB 3.8 MB/s eta 0:00:00\n",
      "Requirement already satisfied: scipy>=1.6.0 in c:\\users\\leviathans\\appdata\\local\\programs\\python\\python311\\lib\\site-packages (from librosa) (1.10.1)\n",
      "Requirement already satisfied: scikit-learn>=1.1.0 in c:\\users\\leviathans\\appdata\\local\\programs\\python\\python311\\lib\\site-packages (from librosa) (1.5.1)\n",
      "Requirement already satisfied: joblib>=1.0 in c:\\users\\leviathans\\appdata\\local\\programs\\python\\python311\\lib\\site-packages (from librosa) (1.4.2)\n",
      "Requirement already satisfied: decorator>=4.3.0 in c:\\users\\leviathans\\appdata\\local\\programs\\python\\python311\\lib\\site-packages (from librosa) (4.4.2)\n",
      "Collecting pooch>=1.1\n",
      "  Downloading pooch-1.8.2-py3-none-any.whl (64 kB)\n",
      "     ---------------------------------------- 64.6/64.6 kB 3.6 MB/s eta 0:00:00\n",
      "Collecting soxr>=0.3.2\n",
      "  Downloading soxr-0.5.0.post1-cp311-cp311-win_amd64.whl (166 kB)\n",
      "     -------------------------------------- 166.7/166.7 kB 3.3 MB/s eta 0:00:00\n",
      "Requirement already satisfied: typing_extensions>=4.1.1 in c:\\users\\leviathans\\appdata\\local\\programs\\python\\python311\\lib\\site-packages (from librosa) (4.11.0)\n",
      "Collecting lazy_loader>=0.1\n",
      "  Downloading lazy_loader-0.4-py3-none-any.whl (12 kB)\n",
      "Requirement already satisfied: msgpack>=1.0 in c:\\users\\leviathans\\appdata\\local\\programs\\python\\python311\\lib\\site-packages (from librosa) (1.1.0)\n",
      "Requirement already satisfied: cffi>=1.0 in c:\\users\\leviathans\\appdata\\local\\programs\\python\\python311\\lib\\site-packages (from soundfile) (1.17.1)\n",
      "Requirement already satisfied: colorama in c:\\users\\leviathans\\appdata\\local\\programs\\python\\python311\\lib\\site-packages (from tqdm) (0.4.6)\n",
      "Requirement already satisfied: pycparser in c:\\users\\leviathans\\appdata\\local\\programs\\python\\python311\\lib\\site-packages (from cffi>=1.0->soundfile) (2.22)\n",
      "Requirement already satisfied: packaging in c:\\users\\leviathans\\appdata\\local\\programs\\python\\python311\\lib\\site-packages (from lazy_loader>=0.1->librosa) (23.2)\n",
      "Collecting llvmlite<0.45,>=0.44.0dev0\n",
      "  Downloading llvmlite-0.44.0-cp311-cp311-win_amd64.whl (30.3 MB)\n",
      "     ---------------------------------------- 30.3/30.3 MB 6.3 MB/s eta 0:00:00\n",
      "Requirement already satisfied: platformdirs>=2.5.0 in c:\\users\\leviathans\\appdata\\roaming\\python\\python311\\site-packages (from pooch>=1.1->librosa) (4.2.2)\n",
      "Requirement already satisfied: requests>=2.19.0 in c:\\users\\leviathans\\appdata\\local\\programs\\python\\python311\\lib\\site-packages (from pooch>=1.1->librosa) (2.31.0)\n",
      "Requirement already satisfied: threadpoolctl>=3.1.0 in c:\\users\\leviathans\\appdata\\local\\programs\\python\\python311\\lib\\site-packages (from scikit-learn>=1.1.0->librosa) (3.5.0)\n",
      "Requirement already satisfied: charset-normalizer<4,>=2 in c:\\users\\leviathans\\appdata\\local\\programs\\python\\python311\\lib\\site-packages (from requests>=2.19.0->pooch>=1.1->librosa) (3.3.2)\n",
      "Requirement already satisfied: idna<4,>=2.5 in c:\\users\\leviathans\\appdata\\local\\programs\\python\\python311\\lib\\site-packages (from requests>=2.19.0->pooch>=1.1->librosa) (3.7)\n",
      "Requirement already satisfied: urllib3<3,>=1.21.1 in c:\\users\\leviathans\\appdata\\local\\programs\\python\\python311\\lib\\site-packages (from requests>=2.19.0->pooch>=1.1->librosa) (2.2.1)\n",
      "Requirement already satisfied: certifi>=2017.4.17 in c:\\users\\leviathans\\appdata\\local\\programs\\python\\python311\\lib\\site-packages (from requests>=2.19.0->pooch>=1.1->librosa) (2024.2.2)\n",
      "Installing collected packages: soxr, llvmlite, lazy_loader, audioread, soundfile, pooch, numba, librosa\n",
      "Successfully installed audioread-3.0.1 lazy_loader-0.4 librosa-0.11.0 llvmlite-0.44.0 numba-0.61.2 pooch-1.8.2 soundfile-0.13.1 soxr-0.5.0.post1\n"
     ]
    },
    {
     "name": "stderr",
     "output_type": "stream",
     "text": [
      "WARNING: There was an error checking the latest version of pip.\n"
     ]
    }
   ],
   "source": [
    "!pip install librosa soundfile numpy tqdm"
   ]
  },
  {
   "cell_type": "code",
   "execution_count": 2,
   "id": "9a6d0220",
   "metadata": {},
   "outputs": [],
   "source": [
    "import os\n",
    "import librosa\n",
    "import soundfile as sf\n",
    "import numpy as np\n",
    "from tqdm import tqdm"
   ]
  },
  {
   "cell_type": "markdown",
   "id": "041337c1",
   "metadata": {},
   "source": [
    "### Preprocessing Audio"
   ]
  },
  {
   "cell_type": "markdown",
   "id": "8f2bc8ab",
   "metadata": {},
   "source": [
    "1. Resampling ke sample rate yang seragam (16.000 Hz)\n",
    "2. Normalisasi audio\n",
    "3. Potong atau padding audio ke durasi tetap (5 detik)"
   ]
  },
  {
   "cell_type": "code",
   "execution_count": 3,
   "id": "f4dc0155",
   "metadata": {},
   "outputs": [],
   "source": [
    "# Parameter global\n",
    "TARGET_SR = 16000       # Target sample rate\n",
    "DURATION = 5            # Durasi target (detik)\n",
    "SAMPLES = TARGET_SR * DURATION  # Total sample\n",
    "\n",
    "# Fungsi normalisasi + resample + padding/trim\n",
    "def preprocess_audio(file_path):\n",
    "    y, sr = librosa.load(file_path, sr=TARGET_SR)\n",
    "    \n",
    "    # Padding atau trimming\n",
    "    if len(y) < SAMPLES:\n",
    "        y = np.pad(y, (0, SAMPLES - len(y)))\n",
    "    else:\n",
    "        y = y[:SAMPLES]\n",
    "    \n",
    "    # Normalisasi\n",
    "    y = y / np.max(np.abs(y))\n",
    "    \n",
    "    return y\n"
   ]
  },
  {
   "cell_type": "code",
   "execution_count": 4,
   "id": "0a0ee6fc",
   "metadata": {},
   "outputs": [
    {
     "name": "stderr",
     "output_type": "stream",
     "text": [
      "Processing Belly Pain: 100%|██████████| 279/279 [00:25<00:00, 11.13it/s]\n",
      "Processing Burping: 100%|██████████| 116/116 [00:01<00:00, 66.48it/s]\n",
      "Processing Cold-Hot: 100%|██████████| 108/108 [00:01<00:00, 71.54it/s]\n",
      "Processing Discomfort: 100%|██████████| 359/359 [00:06<00:00, 57.20it/s]\n",
      "Processing Hungry: 100%|██████████| 955/955 [00:14<00:00, 65.83it/s]\n",
      "Processing laugh: 100%|██████████| 110/110 [00:01<00:00, 60.43it/s]\n",
      "Processing noise: 100%|██████████| 108/108 [00:01<00:00, 56.48it/s]\n",
      "Processing silence: 100%|██████████| 108/108 [00:01<00:00, 60.49it/s]\n"
     ]
    }
   ],
   "source": [
    "input_root = \"dataset\"\n",
    "output_root = \"processed_dataset\"\n",
    "\n",
    "os.makedirs(output_root, exist_ok=True)\n",
    "\n",
    "for label in os.listdir(input_root):\n",
    "    label_path = os.path.join(input_root, label)\n",
    "    \n",
    "    if os.path.isdir(label_path):\n",
    "        os.makedirs(os.path.join(output_root, label), exist_ok=True)\n",
    "        \n",
    "        for file in tqdm(os.listdir(label_path), desc=f\"Processing {label}\"):\n",
    "            if file.endswith(\".wav\"):\n",
    "                input_path = os.path.join(label_path, file)\n",
    "                output_path = os.path.join(output_root, label, file)\n",
    "                \n",
    "                try:\n",
    "                    y = preprocess_audio(input_path)\n",
    "                    sf.write(output_path, y, TARGET_SR)\n",
    "                except Exception as e:\n",
    "                    print(f\"❌ Gagal proses {file}: {e}\")\n"
   ]
  }
 ],
 "metadata": {
  "kernelspec": {
   "display_name": "Python 3",
   "language": "python",
   "name": "python3"
  },
  "language_info": {
   "codemirror_mode": {
    "name": "ipython",
    "version": 3
   },
   "file_extension": ".py",
   "mimetype": "text/x-python",
   "name": "python",
   "nbconvert_exporter": "python",
   "pygments_lexer": "ipython3",
   "version": "3.11.2"
  }
 },
 "nbformat": 4,
 "nbformat_minor": 5
}
