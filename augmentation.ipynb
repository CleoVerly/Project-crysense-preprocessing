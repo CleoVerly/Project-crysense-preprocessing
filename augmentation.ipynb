{
 "cells": [
  {
   "cell_type": "code",
   "execution_count": null,
   "id": "8312c8e1",
   "metadata": {},
   "outputs": [],
   "source": [
    "import os\n",
    "import librosa\n",
    "import numpy as np\n",
    "import soundfile as sf\n",
    "from tqdm import tqdm"
   ]
  },
  {
   "cell_type": "code",
   "execution_count": null,
   "id": "217b4573",
   "metadata": {},
   "outputs": [],
   "source": [
    "# Path ke folder dataset preprocessed\n",
    "base_dir = \"dataset_preprocessed\""
   ]
  },
  {
   "cell_type": "code",
   "execution_count": null,
   "id": "6457d3c8",
   "metadata": {},
   "outputs": [],
   "source": [
    "# Target minimum per kelas\n",
    "target = 500"
   ]
  },
  {
   "cell_type": "code",
   "execution_count": null,
   "id": "2ff1cb91",
   "metadata": {},
   "outputs": [],
   "source": [
    "# Fungsi augmentasi\n",
    "def pitch_shift(data, sr):\n",
    "    return librosa.effects.pitch_shift(data, sr, n_steps=2)\n",
    "\n",
    "def time_stretch(data, rate=1.2):\n",
    "    return librosa.effects.time_stretch(data, rate)\n",
    "\n",
    "def add_noise(data, noise_factor=0.005):\n",
    "    noise = np.random.randn(len(data))\n",
    "    return data + noise_factor * noise\n",
    "\n",
    "# Augmentasi kelas\n",
    "for class_name in os.listdir(base_dir):\n",
    "    class_path = os.path.join(base_dir, class_name)\n",
    "    if not os.path.isdir(class_path):\n",
    "        continue\n",
    "\n",
    "    files = [f for f in os.listdir(class_path) if f.endswith(\".wav\")]\n",
    "    n_files = len(files)\n",
    "\n",
    "    if n_files >= target:\n",
    "        continue  # Skip jika sudah >= target\n",
    "\n",
    "    print(f\"Augmenting class '{class_name}' from {n_files} to {target}\")\n",
    "    idx = 0\n",
    "    while n_files < target:\n",
    "        file = files[idx % len(files)]\n",
    "        file_path = os.path.join(class_path, file)\n",
    "        data, sr = librosa.load(file_path, sr=16000)\n",
    "\n",
    "        # Terapkan augmentasi\n",
    "        for aug_fn in [pitch_shift, time_stretch, add_noise]:\n",
    "            augmented = aug_fn(data, sr) if aug_fn != time_stretch else aug_fn(data)\n",
    "            new_name = f\"{os.path.splitext(file)[0]}_aug{n_files}.wav\"\n",
    "            new_path = os.path.join(class_path, new_name)\n",
    "            sf.write(new_path, augmented, sr)\n",
    "            n_files += 1\n",
    "            if n_files >= target:\n",
    "                break\n",
    "        idx += 1\n"
   ]
  }
 ],
 "metadata": {
  "language_info": {
   "name": "python"
  }
 },
 "nbformat": 4,
 "nbformat_minor": 5
}
