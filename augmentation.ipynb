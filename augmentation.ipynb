{
 "cells": [
  {
   "cell_type": "code",
   "execution_count": 1,
   "id": "8312c8e1",
   "metadata": {},
   "outputs": [],
   "source": [
    "import os\n",
    "import librosa\n",
    "import numpy as np\n",
    "import soundfile as sf\n",
    "from tqdm import tqdm"
   ]
  },
  {
   "cell_type": "code",
   "execution_count": 2,
   "id": "217b4573",
   "metadata": {},
   "outputs": [],
   "source": [
    "# Folder input dan output\n",
    "input_dir = 'processed_dataset'\n",
    "output_dir = 'augmented_dataset'\n",
    "os.makedirs(output_dir, exist_ok=True)"
   ]
  },
  {
   "cell_type": "code",
   "execution_count": 3,
   "id": "6457d3c8",
   "metadata": {},
   "outputs": [],
   "source": [
    "# Target minimum per kelas\n",
    "TARGET = 500"
   ]
  },
  {
   "cell_type": "code",
   "execution_count": 4,
   "id": "1f08fc4c",
   "metadata": {},
   "outputs": [],
   "source": [
    "# --- Fungsi Augmentasi ---\n",
    "def apply_pitch_shift(data, sr, n_steps=2):\n",
    "    return librosa.effects.pitch_shift(data, sr=sr, n_steps=n_steps)\n",
    "\n",
    "def apply_time_stretch(data, rate=1.2):\n",
    "    return librosa.effects.time_stretch(data, rate)\n",
    "\n",
    "def apply_add_noise(data, noise_factor=0.005):\n",
    "    noise = np.random.randn(len(data))\n",
    "    return data + noise_factor * noise\n",
    "\n",
    "def apply_shift(data, shift_max=0.2):\n",
    "    shift = int(np.random.uniform(-shift_max, shift_max) * len(data))\n",
    "    return np.roll(data, shift)\n",
    "\n",
    "def apply_volume_control(data, gain_db=5):\n",
    "    return data * (10 ** (gain_db / 20))\n"
   ]
  },
  {
   "cell_type": "code",
   "execution_count": 5,
   "id": "2ff1cb91",
   "metadata": {},
   "outputs": [
    {
     "name": "stdout",
     "output_type": "stream",
     "text": [
      "\n",
      "📁 Proses kelas: Belly Pain (sudah ada 7)\n"
     ]
    },
    {
     "name": "stderr",
     "output_type": "stream",
     "text": [
      "Augment Belly Pain:   0%|          | 0/279 [00:00<?, ?it/s]"
     ]
    },
    {
     "name": "stderr",
     "output_type": "stream",
     "text": [
      "                                                                      \r"
     ]
    },
    {
     "name": "stdout",
     "output_type": "stream",
     "text": [
      "\n",
      "📁 Proses kelas: Burping (sudah ada 0)\n"
     ]
    },
    {
     "name": "stderr",
     "output_type": "stream",
     "text": [
      "                                                                   \r"
     ]
    },
    {
     "name": "stdout",
     "output_type": "stream",
     "text": [
      "\n",
      "📁 Proses kelas: Cold-Hot (sudah ada 0)\n"
     ]
    },
    {
     "name": "stderr",
     "output_type": "stream",
     "text": [
      "                                                                   \r"
     ]
    },
    {
     "name": "stdout",
     "output_type": "stream",
     "text": [
      "\n",
      "📁 Proses kelas: Discomfort (sudah ada 0)\n"
     ]
    },
    {
     "name": "stderr",
     "output_type": "stream",
     "text": [
      "                                                                      \r"
     ]
    },
    {
     "name": "stdout",
     "output_type": "stream",
     "text": [
      "\n",
      "📁 Proses kelas: Hungry (sudah ada 0)\n"
     ]
    },
    {
     "name": "stderr",
     "output_type": "stream",
     "text": [
      "                                                                 \r"
     ]
    },
    {
     "name": "stdout",
     "output_type": "stream",
     "text": [
      "\n",
      "📁 Proses kelas: laugh (sudah ada 0)\n"
     ]
    },
    {
     "name": "stderr",
     "output_type": "stream",
     "text": [
      "                                                                 \r"
     ]
    },
    {
     "name": "stdout",
     "output_type": "stream",
     "text": [
      "\n",
      "📁 Proses kelas: noise (sudah ada 0)\n"
     ]
    },
    {
     "name": "stderr",
     "output_type": "stream",
     "text": [
      "                                                                 \r"
     ]
    },
    {
     "name": "stdout",
     "output_type": "stream",
     "text": [
      "\n",
      "📁 Proses kelas: silence (sudah ada 0)\n"
     ]
    },
    {
     "name": "stderr",
     "output_type": "stream",
     "text": [
      "                                                                   \r"
     ]
    }
   ],
   "source": [
    "# --- Proses Augmentasi ---\n",
    "for label in os.listdir(input_dir):\n",
    "    label_input_path = os.path.join(input_dir, label)\n",
    "    label_output_path = os.path.join(output_dir, label)\n",
    "\n",
    "    if not os.path.isdir(label_input_path):\n",
    "        continue\n",
    "\n",
    "    os.makedirs(label_output_path, exist_ok=True)\n",
    "\n",
    "    # Ambil file .wav yang sudah ada di output\n",
    "    existing_files = [f for f in os.listdir(label_output_path) if f.endswith(\".wav\")]\n",
    "    current_count = len(existing_files)\n",
    "\n",
    "    # Ambil file input dari folder asal\n",
    "    input_files = [f for f in os.listdir(label_input_path) if f.endswith(\".wav\")]\n",
    "    augment_count = 0\n",
    "\n",
    "    print(f\"\\n📁 Proses kelas: {label} (sudah ada {current_count})\")\n",
    "\n",
    "    while current_count + augment_count < TARGET:\n",
    "        for file in tqdm(input_files, desc=f\"Augment {label}\", leave=False):\n",
    "            if current_count + augment_count >= TARGET:\n",
    "                break\n",
    "\n",
    "            filepath = os.path.join(label_input_path, file)\n",
    "            try:\n",
    "                data, sr = librosa.load(filepath, sr=None)\n",
    "            except:\n",
    "                continue\n",
    "\n",
    "            aug_type = np.random.choice(['pitch', 'stretch', 'noise', 'shift', 'volume'])\n",
    "\n",
    "            try:\n",
    "                if aug_type == 'pitch':\n",
    "                    augmented = apply_pitch_shift(data, sr)\n",
    "                elif aug_type == 'stretch':\n",
    "                    augmented = apply_time_stretch(data)\n",
    "                elif aug_type == 'noise':\n",
    "                    augmented = apply_add_noise(data)\n",
    "                elif aug_type == 'shift':\n",
    "                    augmented = apply_shift(data)\n",
    "                elif aug_type == 'volume':\n",
    "                    augmented = apply_volume_control(data)\n",
    "                else:\n",
    "                    continue\n",
    "            except:\n",
    "                continue\n",
    "\n",
    "            new_filename = f\"{file[:-4]}_aug{augment_count}_{aug_type}.wav\"\n",
    "            new_filepath = os.path.join(label_output_path, new_filename)\n",
    "            sf.write(new_filepath, augmented, sr)\n",
    "            augment_count += 1"
   ]
  }
 ],
 "metadata": {
  "kernelspec": {
   "display_name": "Python 3",
   "language": "python",
   "name": "python3"
  },
  "language_info": {
   "codemirror_mode": {
    "name": "ipython",
    "version": 3
   },
   "file_extension": ".py",
   "mimetype": "text/x-python",
   "name": "python",
   "nbconvert_exporter": "python",
   "pygments_lexer": "ipython3",
   "version": "3.11.2"
  }
 },
 "nbformat": 4,
 "nbformat_minor": 5
}
